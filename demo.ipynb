{
 "cells": [
  {
   "cell_type": "code",
   "execution_count": 1,
   "metadata": {},
   "outputs": [
    {
     "name": "stdout",
     "output_type": "stream",
     "text": [
      "you have selected, these images:\n",
      "\n",
      "selected set is \n",
      "          image       clothes\n",
      "0  00017_00.jpg  04131_00.jpg\n",
      "starting HR_Viton...\n",
      "shutingdown HR_Viton...\n"
     ]
    },
    {
     "name": "stderr",
     "output_type": "stream",
     "text": [
      "2024-07-31 18:42:56,209 - INFO - Initializing pre-model(Gaussian model) ...\n",
      "2024-07-31 18:42:57,627 - INFO - Initializing pre-model(Gaussian model) finished in 1417.23ms.\n",
      "2024-07-31 18:42:57,628 - INFO - Initializing TSR (diffsusion 3D) model ...\n",
      "2024-07-31 18:43:00,803 - INFO - Initializing TSR (diffsusion 3D) model finished in 3174.20ms.\n",
      "2024-07-31 18:43:00,804 - INFO - Processing images ...\n",
      "2024-07-31 18:43:30,140 - INFO - Processing images finished in 29336.10ms.\n",
      "2024-07-31 18:43:30,141 - INFO - please wait this process might take a few minutes...\n",
      "2024-07-31 18:43:30,142 - INFO - Running model ...\n"
     ]
    },
    {
     "name": "stdout",
     "output_type": "stream",
     "text": [
      "[Open3D WARNING] [ViewControl] SetViewPoint() failed because window height and width are not set.\n",
      "[Open3D WARNING] [ViewControl] SetViewPoint() failed because window height and width are not set.\n"
     ]
    },
    {
     "name": "stderr",
     "output_type": "stream",
     "text": [
      "2024-07-31 18:44:37,743 - INFO - Running model finished in 67601.00ms.\n",
      "2024-07-31 18:44:37,744 - INFO - Rendering ...\n",
      "2024-07-31 18:53:30,873 - INFO - Rendering finished in 533128.79ms.\n",
      "2024-07-31 18:53:33,089 - INFO - Exporting mesh ...\n",
      "2024-07-31 18:54:14,066 - INFO - Exporting mesh finished in 40977.36ms.\n"
     ]
    }
   ],
   "source": [
    "from dif3d_viton import dif3D_Viton\n",
    "\n",
    "\"\"\"\n",
    "defualt vales are :\n",
    "    chunk_size: int = 8192,\n",
    "    padding: int = 16,\n",
    "    foreground_ratio: float = 0.85,\n",
    "    mc_resolution: int = 256,\n",
    "\"\"\"\n",
    "sample = dif3D_Viton()\n",
    "sample.dif3d_viton_run(render=True)"
   ]
  }
 ],
 "metadata": {
  "kernelspec": {
   "display_name": "base",
   "language": "python",
   "name": "python3"
  },
  "language_info": {
   "codemirror_mode": {
    "name": "ipython",
    "version": 3
   },
   "file_extension": ".py",
   "mimetype": "text/x-python",
   "name": "python",
   "nbconvert_exporter": "python",
   "pygments_lexer": "ipython3",
   "version": "3.11.5"
  }
 },
 "nbformat": 4,
 "nbformat_minor": 2
}
