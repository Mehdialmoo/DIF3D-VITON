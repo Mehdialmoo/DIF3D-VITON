{
 "cells": [
  {
   "cell_type": "code",
   "execution_count": 5,
   "metadata": {},
   "outputs": [
    {
     "name": "stdout",
     "output_type": "stream",
     "text": [
      "you have selected, these images:\n",
      "\n",
      "selected set is \n",
      "          image       clothes\n",
      "0  10404_00.jpg  01248_00.jpg\n",
      "starting HR_Viton...\n",
      "shutingdown HR_Viton...\n"
     ]
    },
    {
     "name": "stderr",
     "output_type": "stream",
     "text": [
      "2024-08-10 11:03:16,731 - INFO - Initializing pre-model(Gaussian model) ...\n",
      "2024-08-10 11:03:18,389 - INFO - Initializing pre-model(Gaussian model) finished in 1657.96ms.\n",
      "2024-08-10 11:03:18,389 - INFO - Initializing TSR (diffsusion 3D) model ...\n",
      "2024-08-10 11:03:22,077 - INFO - Initializing TSR (diffsusion 3D) model finished in 3687.72ms.\n",
      "2024-08-10 11:03:22,078 - INFO - Processing images ...\n",
      "2024-08-10 11:03:29,276 - INFO - Processing images finished in 7198.34ms.\n",
      "2024-08-10 11:03:29,278 - INFO - please wait this process might take a few minutes...\n",
      "2024-08-10 11:03:29,279 - INFO - Running model ...\n",
      "2024-08-10 11:04:03,916 - INFO - Running model finished in 34636.86ms.\n",
      "2024-08-10 11:04:03,917 - INFO - Rendering ...\n",
      "2024-08-10 11:11:10,922 - INFO - Rendering finished in 427004.50ms.\n",
      "2024-08-10 11:11:13,223 - INFO - Exporting mesh ...\n",
      "2024-08-10 11:11:43,359 - INFO - Exporting mesh finished in 30136.30ms.\n"
     ]
    }
   ],
   "source": [
    "from dif3d_viton import dif3D_Viton\n",
    "\n",
    "\"\"\"\n",
    "defualt vales are :\n",
    "    render: bool = False\n",
    "    chunk_size: int = 8192, #check your VRAM\n",
    "    padding: int = 16, #for CNN model padding\n",
    "    foreground_ratio: float = 0.85, \n",
    "    #for depth estimation of foreground and background\n",
    "    mc_resolution: int = 256, #final mesh resloution\n",
    "\"\"\"\n",
    "sample = dif3D_Viton()\n",
    "sample.dif3d_viton_run(render=True, mc_resolution=512)"
   ]
  }
 ],
 "metadata": {
  "kernelspec": {
   "display_name": "base",
   "language": "python",
   "name": "python3"
  },
  "language_info": {
   "codemirror_mode": {
    "name": "ipython",
    "version": 3
   },
   "file_extension": ".py",
   "mimetype": "text/x-python",
   "name": "python",
   "nbconvert_exporter": "python",
   "pygments_lexer": "ipython3",
   "version": "3.11.5"
  }
 },
 "nbformat": 4,
 "nbformat_minor": 2
}
