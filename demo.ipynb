{
 "cells": [
  {
   "cell_type": "code",
   "execution_count": 1,
   "metadata": {},
   "outputs": [
    {
     "name": "stdout",
     "output_type": "stream",
     "text": [
      "you have selected, these images:\n",
      "\n",
      "selected set is \n",
      "          image       clothes\n",
      "0  05997_00.jpg  05830_00.jpg\n",
      "starting HR_Viton...\n",
      "shutingdown HR_Viton...\n"
     ]
    },
    {
     "name": "stderr",
     "output_type": "stream",
     "text": [
      "2024-07-31 20:15:30,219 - INFO - Initializing pre-model(Gaussian model) ...\n",
      "2024-07-31 20:15:32,032 - INFO - Initializing pre-model(Gaussian model) finished in 1812.96ms.\n",
      "2024-07-31 20:15:32,034 - INFO - Initializing TSR (diffsusion 3D) model ...\n",
      "2024-07-31 20:15:35,827 - INFO - Initializing TSR (diffsusion 3D) model finished in 3792.79ms.\n",
      "2024-07-31 20:15:35,828 - INFO - Processing images ...\n",
      "2024-07-31 20:16:15,671 - INFO - Processing images finished in 39843.15ms.\n",
      "2024-07-31 20:16:15,671 - INFO - please wait this process might take a few minutes...\n",
      "2024-07-31 20:16:15,672 - INFO - Running model ...\n",
      "2024-07-31 20:18:25,676 - INFO - Running model finished in 130003.46ms.\n",
      "2024-07-31 20:18:25,677 - INFO - Rendering ...\n",
      "2024-07-31 20:25:24,946 - INFO - Rendering finished in 419269.41ms.\n",
      "2024-07-31 20:25:27,187 - INFO - Exporting mesh ...\n",
      "2024-07-31 20:26:05,073 - INFO - Exporting mesh finished in 37885.72ms.\n"
     ]
    }
   ],
   "source": [
    "from dif3d_viton import dif3D_Viton\n",
    "\n",
    "\"\"\"\n",
    "defualt vales are :\n",
    "    render: bool = False\n",
    "    chunk_size: int = 8192, #check your VRAM\n",
    "    padding: int = 16, #for CNN model padding\n",
    "    foreground_ratio: float = 0.85, \n",
    "    #for depth estimation of foreground and background\n",
    "    mc_resolution: int = 256, #final mesh resloution\n",
    "\"\"\"\n",
    "sample = dif3D_Viton()\n",
    "sample.dif3d_viton_run(render=True)"
   ]
  }
 ],
 "metadata": {
  "kernelspec": {
   "display_name": "base",
   "language": "python",
   "name": "python3"
  },
  "language_info": {
   "codemirror_mode": {
    "name": "ipython",
    "version": 3
   },
   "file_extension": ".py",
   "mimetype": "text/x-python",
   "name": "python",
   "nbconvert_exporter": "python",
   "pygments_lexer": "ipython3",
   "version": "3.11.5"
  }
 },
 "nbformat": 4,
 "nbformat_minor": 2
}
